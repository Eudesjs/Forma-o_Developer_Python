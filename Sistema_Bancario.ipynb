{
  "nbformat": 4,
  "nbformat_minor": 0,
  "metadata": {
    "colab": {
      "provenance": [],
      "include_colab_link": true
    },
    "kernelspec": {
      "name": "python3",
      "display_name": "Python 3"
    },
    "language_info": {
      "name": "python"
    }
  },
  "cells": [
    {
      "cell_type": "markdown",
      "metadata": {
        "id": "view-in-github",
        "colab_type": "text"
      },
      "source": [
        "<a href=\"https://colab.research.google.com/github/Eudesjs/Forma-o_Developer_Python/blob/main/Sistema_Bancario.ipynb\" target=\"_parent\"><img src=\"https://colab.research.google.com/assets/colab-badge.svg\" alt=\"Open In Colab\"/></a>"
      ]
    },
    {
      "cell_type": "markdown",
      "source": [
        "# Projeto Sistema Bancário.\n",
        "## 1 - Implementar 3 Operações:\n",
        "\n",
        "### a - Deposito\n",
        "### b - Saque/Saldo\n",
        "### c - Extrato\n"
      ],
      "metadata": {
        "id": "rN9bgdc3uzll"
      }
    },
    {
      "cell_type": "code",
      "source": [],
      "metadata": {
        "id": "ZkYLvyE1jDNX"
      },
      "execution_count": null,
      "outputs": []
    },
    {
      "cell_type": "code",
      "source": [
        "class ContaBancaria:\n",
        "  def __init__(self, saldo_inicial = 0):\n",
        "    self.saldo = saldo_inicial\n",
        "    self.transacoes = []\n",
        "\n",
        "  def deposito(self, valor):\n",
        "    self.saldo += valor\n",
        "    self.transacoes.append(f'Depósito: +{valor}')\n",
        "\n",
        "  def saque(self, valor):\n",
        "    if self.saldo >= valor:\n",
        "      self.saldo -= valor\n",
        "      self.transacoes.append(f'Saque: -{valor}')\n",
        "    else:\n",
        "      print(\"Saldo Insuficiente.\")\n",
        "\n",
        "  def extrato(self):\n",
        "    print(\"Extrato:\")\n",
        "    for transacao in self.transacoes:\n",
        "      print(transacao)\n",
        "    print(f'Saldo Atual: {self.saldo}')\n",
        "\n",
        "\n",
        "def main():\n",
        "\n",
        "  conta = ContaBancaria(100)\n",
        "\n",
        "  while True:\n",
        "    print(\"\\nMenu:\")\n",
        "    print(\"D = Deposito\")\n",
        "    print(\"S = Saque\")\n",
        "    print(\"E = Extrato\")\n",
        "    print(\"Q = Sair\")\n",
        "\n",
        "    opcao = input(\"Escolha uma Opcao: \").upper()\n",
        "\n",
        "    if opcao == \"D\":\n",
        "      valor = float(input(\"Digite o valor do Deposito: \"))\n",
        "      conta.deposito(valor)\n",
        "    elif opcao == \"S\":\n",
        "      valor = float(input(\"Digite o valor do Saque: \"))\n",
        "      conta.saque(valor)\n",
        "    elif opcao == \"E\":\n",
        "      conta.extrato()\n",
        "    elif opcao == 'Q':\n",
        "      print(\"Saindo...\")\n",
        "    else:\n",
        "      print(\"Opção inválida. Por favor, escolha uma opção Válida. \")\n",
        "\n",
        "if __name__ == \"__main__\":\n",
        "  main()"
      ],
      "metadata": {
        "id": "FCmfXVltQM7f",
        "colab": {
          "base_uri": "https://localhost:8080/",
          "height": 1000
        },
        "outputId": "b8d3ecac-f500-40f7-d9d8-d2ddf65d002b"
      },
      "execution_count": 9,
      "outputs": [
        {
          "output_type": "stream",
          "name": "stdout",
          "text": [
            "\n",
            "Menu:\n",
            "D = Deposito\n",
            "S = Saque\n",
            "E = Extrato\n",
            "Q = Sair\n",
            "Escolha uma Opcao: e\n",
            "Extrato:\n",
            "Saldo Atual: 100\n",
            "\n",
            "Menu:\n",
            "D = Deposito\n",
            "S = Saque\n",
            "E = Extrato\n",
            "Q = Sair\n",
            "Escolha uma Opcao: d\n",
            "Digite o valor do Deposito: 500\n",
            "\n",
            "Menu:\n",
            "D = Deposito\n",
            "S = Saque\n",
            "E = Extrato\n",
            "Q = Sair\n",
            "Escolha uma Opcao: e\n",
            "Extrato:\n",
            "Depósito: +500.0\n",
            "Saldo Atual: 600.0\n",
            "\n",
            "Menu:\n",
            "D = Deposito\n",
            "S = Saque\n",
            "E = Extrato\n",
            "Q = Sair\n",
            "Escolha uma Opcao: s\n",
            "Digite o valor do Saque: 250\n",
            "\n",
            "Menu:\n",
            "D = Deposito\n",
            "S = Saque\n",
            "E = Extrato\n",
            "Q = Sair\n",
            "Escolha uma Opcao: e\n",
            "Extrato:\n",
            "Depósito: +500.0\n",
            "Saque: -250.0\n",
            "Saldo Atual: 350.0\n",
            "\n",
            "Menu:\n",
            "D = Deposito\n",
            "S = Saque\n",
            "E = Extrato\n",
            "Q = Sair\n",
            "Escolha uma Opcao: s\n",
            "Digite o valor do Saque: 3000\n",
            "Saldo Insuficiente.\n",
            "\n",
            "Menu:\n",
            "D = Deposito\n",
            "S = Saque\n",
            "E = Extrato\n",
            "Q = Sair\n",
            "Escolha uma Opcao: Q\n",
            "Saindo...\n",
            "\n",
            "Menu:\n",
            "D = Deposito\n",
            "S = Saque\n",
            "E = Extrato\n",
            "Q = Sair\n"
          ]
        },
        {
          "output_type": "error",
          "ename": "KeyboardInterrupt",
          "evalue": "Interrupted by user",
          "traceback": [
            "\u001b[0;31m---------------------------------------------------------------------------\u001b[0m",
            "\u001b[0;31mKeyboardInterrupt\u001b[0m                         Traceback (most recent call last)",
            "\u001b[0;32m<ipython-input-9-b7e91cb58b32>\u001b[0m in \u001b[0;36m<cell line: 50>\u001b[0;34m()\u001b[0m\n\u001b[1;32m     49\u001b[0m \u001b[0;34m\u001b[0m\u001b[0m\n\u001b[1;32m     50\u001b[0m \u001b[0;32mif\u001b[0m \u001b[0m__name__\u001b[0m \u001b[0;34m==\u001b[0m \u001b[0;34m\"__main__\"\u001b[0m\u001b[0;34m:\u001b[0m\u001b[0;34m\u001b[0m\u001b[0;34m\u001b[0m\u001b[0m\n\u001b[0;32m---> 51\u001b[0;31m   \u001b[0mmain\u001b[0m\u001b[0;34m(\u001b[0m\u001b[0;34m)\u001b[0m\u001b[0;34m\u001b[0m\u001b[0;34m\u001b[0m\u001b[0m\n\u001b[0m",
            "\u001b[0;32m<ipython-input-9-b7e91cb58b32>\u001b[0m in \u001b[0;36mmain\u001b[0;34m()\u001b[0m\n\u001b[1;32m     33\u001b[0m     \u001b[0mprint\u001b[0m\u001b[0;34m(\u001b[0m\u001b[0;34m\"Q = Sair\"\u001b[0m\u001b[0;34m)\u001b[0m\u001b[0;34m\u001b[0m\u001b[0;34m\u001b[0m\u001b[0m\n\u001b[1;32m     34\u001b[0m \u001b[0;34m\u001b[0m\u001b[0m\n\u001b[0;32m---> 35\u001b[0;31m     \u001b[0mopcao\u001b[0m \u001b[0;34m=\u001b[0m \u001b[0minput\u001b[0m\u001b[0;34m(\u001b[0m\u001b[0;34m\"Escolha uma Opcao: \"\u001b[0m\u001b[0;34m)\u001b[0m\u001b[0;34m.\u001b[0m\u001b[0mupper\u001b[0m\u001b[0;34m(\u001b[0m\u001b[0;34m)\u001b[0m\u001b[0;34m\u001b[0m\u001b[0;34m\u001b[0m\u001b[0m\n\u001b[0m\u001b[1;32m     36\u001b[0m \u001b[0;34m\u001b[0m\u001b[0m\n\u001b[1;32m     37\u001b[0m     \u001b[0;32mif\u001b[0m \u001b[0mopcao\u001b[0m \u001b[0;34m==\u001b[0m \u001b[0;34m\"D\"\u001b[0m\u001b[0;34m:\u001b[0m\u001b[0;34m\u001b[0m\u001b[0;34m\u001b[0m\u001b[0m\n",
            "\u001b[0;32m/usr/local/lib/python3.10/dist-packages/ipykernel/kernelbase.py\u001b[0m in \u001b[0;36mraw_input\u001b[0;34m(self, prompt)\u001b[0m\n\u001b[1;32m    849\u001b[0m                 \u001b[0;34m\"raw_input was called, but this frontend does not support input requests.\"\u001b[0m\u001b[0;34m\u001b[0m\u001b[0;34m\u001b[0m\u001b[0m\n\u001b[1;32m    850\u001b[0m             )\n\u001b[0;32m--> 851\u001b[0;31m         return self._input_request(str(prompt),\n\u001b[0m\u001b[1;32m    852\u001b[0m             \u001b[0mself\u001b[0m\u001b[0;34m.\u001b[0m\u001b[0m_parent_ident\u001b[0m\u001b[0;34m,\u001b[0m\u001b[0;34m\u001b[0m\u001b[0;34m\u001b[0m\u001b[0m\n\u001b[1;32m    853\u001b[0m             \u001b[0mself\u001b[0m\u001b[0;34m.\u001b[0m\u001b[0m_parent_header\u001b[0m\u001b[0;34m,\u001b[0m\u001b[0;34m\u001b[0m\u001b[0;34m\u001b[0m\u001b[0m\n",
            "\u001b[0;32m/usr/local/lib/python3.10/dist-packages/ipykernel/kernelbase.py\u001b[0m in \u001b[0;36m_input_request\u001b[0;34m(self, prompt, ident, parent, password)\u001b[0m\n\u001b[1;32m    893\u001b[0m             \u001b[0;32mexcept\u001b[0m \u001b[0mKeyboardInterrupt\u001b[0m\u001b[0;34m:\u001b[0m\u001b[0;34m\u001b[0m\u001b[0;34m\u001b[0m\u001b[0m\n\u001b[1;32m    894\u001b[0m                 \u001b[0;31m# re-raise KeyboardInterrupt, to truncate traceback\u001b[0m\u001b[0;34m\u001b[0m\u001b[0;34m\u001b[0m\u001b[0m\n\u001b[0;32m--> 895\u001b[0;31m                 \u001b[0;32mraise\u001b[0m \u001b[0mKeyboardInterrupt\u001b[0m\u001b[0;34m(\u001b[0m\u001b[0;34m\"Interrupted by user\"\u001b[0m\u001b[0;34m)\u001b[0m \u001b[0;32mfrom\u001b[0m \u001b[0;32mNone\u001b[0m\u001b[0;34m\u001b[0m\u001b[0;34m\u001b[0m\u001b[0m\n\u001b[0m\u001b[1;32m    896\u001b[0m             \u001b[0;32mexcept\u001b[0m \u001b[0mException\u001b[0m \u001b[0;32mas\u001b[0m \u001b[0me\u001b[0m\u001b[0;34m:\u001b[0m\u001b[0;34m\u001b[0m\u001b[0;34m\u001b[0m\u001b[0m\n\u001b[1;32m    897\u001b[0m                 \u001b[0mself\u001b[0m\u001b[0;34m.\u001b[0m\u001b[0mlog\u001b[0m\u001b[0;34m.\u001b[0m\u001b[0mwarning\u001b[0m\u001b[0;34m(\u001b[0m\u001b[0;34m\"Invalid Message:\"\u001b[0m\u001b[0;34m,\u001b[0m \u001b[0mexc_info\u001b[0m\u001b[0;34m=\u001b[0m\u001b[0;32mTrue\u001b[0m\u001b[0;34m)\u001b[0m\u001b[0;34m\u001b[0m\u001b[0;34m\u001b[0m\u001b[0m\n",
            "\u001b[0;31mKeyboardInterrupt\u001b[0m: Interrupted by user"
          ]
        }
      ]
    }
  ]
}